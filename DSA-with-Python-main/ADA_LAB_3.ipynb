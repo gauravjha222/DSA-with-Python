{
  "nbformat": 4,
  "nbformat_minor": 0,
  "metadata": {
    "colab": {
      "provenance": []
    },
    "kernelspec": {
      "name": "python3",
      "display_name": "Python 3"
    },
    "language_info": {
      "name": "python"
    }
  },
  "cells": [
    {
      "cell_type": "markdown",
      "source": [
        "**To implement radix sort**"
      ],
      "metadata": {
        "id": "tDGXHfcBvrbE"
      }
    },
    {
      "cell_type": "code",
      "execution_count": null,
      "metadata": {
        "colab": {
          "base_uri": "https://localhost:8080/"
        },
        "id": "q8MPHN2SvO8t",
        "outputId": "3528d929-c178-4f9c-a666-94602be88653"
      },
      "outputs": [
        {
          "output_type": "stream",
          "name": "stdout",
          "text": [
            "2 24 45 66 75 90 170 802 "
          ]
        }
      ],
      "source": [
        "def countingSort(arr, exp1):\n",
        "\tn = len(arr)\n",
        "\toutput = [0] * (n)\n",
        "\tcount = [0] * (10)\n",
        "\tfor i in range(0, n):\n",
        "\t\tindex = (arr[i]/exp1)\n",
        "\t\tcount[int((index)%10)] += 1\n",
        "\tfor i in range(1,10):\n",
        "\t\tcount[i] += count[i-1]\n",
        "\ti = n-1\n",
        "\twhile i>=0:\n",
        "\t\tindex = (arr[i]/exp1)\n",
        "\t\toutput[ count[ int((index)%10) ] - 1] = arr[i]\n",
        "\t\tcount[int((index)%10)] -= 1\n",
        "\t\ti -= 1\n",
        "\ti = 0\n",
        "\tfor i in range(0,len(arr)):\n",
        "\t\tarr[i] = output[i]\n",
        "\n",
        "# Method to do Radix Sort\n",
        "def radixSort(arr):\n",
        "\tmax1 = max(arr)\n",
        "\texp = 1\n",
        "\twhile max1/exp > 0:\n",
        "\t\tcountingSort(arr,exp)\n",
        "\t\texp *= 10\n",
        "\n",
        "arr = [ 170, 45, 75, 90, 802, 24, 2, 66]\n",
        "radixSort(arr)\n",
        "for i in range(len(arr)):\n",
        "\tprint(arr[i],end=\" \")"
      ]
    },
    {
      "cell_type": "markdown",
      "source": [
        "**To implement bucket sort**"
      ],
      "metadata": {
        "id": "im7MyK__wtQl"
      }
    },
    {
      "cell_type": "code",
      "source": [
        "def insertionSort(b):\n",
        "\tfor i in range(1, len(b)):\n",
        "\t\tup = b[i]\n",
        "\t\tj = i - 1\n",
        "\t\twhile j >= 0 and b[j] > up:\n",
        "\t\t\tb[j + 1] = b[j]\n",
        "\t\t\tj -= 1\n",
        "\t\tb[j + 1] = up\n",
        "\treturn b\n",
        "\n",
        "def bucketSort(x):\n",
        "\tarr = []\n",
        "\tslot_num = 10\n",
        "\tfor i in range(slot_num):\n",
        "\t\tarr.append([])\n",
        "\tfor j in x:\n",
        "\t\tindex_b = int(slot_num * j)\n",
        "\t\tarr[index_b].append(j)\n",
        "\tfor i in range(slot_num):\n",
        "\t\tarr[i] = insertionSort(arr[i])\n",
        "\tk = 0\n",
        "\tfor i in range(slot_num):\n",
        "\t\tfor j in range(len(arr[i])):\n",
        "\t\t\tx[k] = arr[i][j]\n",
        "\t\t\tk += 1\n",
        "\treturn x\n",
        "\n",
        "x = [0.897, 0.565, 0.656,\n",
        "\t0.1234, 0.665, 0.3434]\n",
        "print(\"Sorted Array is\")\n",
        "print(bucketSort(x))"
      ],
      "metadata": {
        "colab": {
          "base_uri": "https://localhost:8080/"
        },
        "id": "EOro6_gTwyHv",
        "outputId": "4543e2bc-96f8-4147-8063-bbcc66dcc8f7"
      },
      "execution_count": null,
      "outputs": [
        {
          "output_type": "stream",
          "name": "stdout",
          "text": [
            "Sorted Array is\n",
            "[0.1234, 0.3434, 0.565, 0.656, 0.665, 0.897]\n"
          ]
        }
      ]
    },
    {
      "cell_type": "markdown",
      "source": [
        "**To implement binary tree**"
      ],
      "metadata": {
        "id": "dXx14fmyxf_o"
      }
    },
    {
      "cell_type": "code",
      "source": [
        "class Node:\n",
        "   def __init__(self, data):\n",
        "      self.left = None\n",
        "      self.right = None\n",
        "      self.data = data\n",
        "\n",
        "   def insert(self, data):\n",
        "     if self.data:\n",
        "         if data < self.data:\n",
        "            if self.left is None:\n",
        "               self.left = Node(data)\n",
        "            else:\n",
        "               self.left.insert(data)\n",
        "         elif data > self.data:\n",
        "           if self.right is None:\n",
        "                  self.right = Node(data)\n",
        "           else:\n",
        "             self.right.insert(data)\n",
        "     else:\n",
        "         self.data = data\n",
        "# Print the tree\n",
        "   def PrintTree(self):\n",
        "      if self.left:\n",
        "         self.left.PrintTree()\n",
        "      print( self.data),\n",
        "      if self.right:\n",
        "         self.right.PrintTree()\n",
        "# Use the insert method to add nodes\n",
        "root = Node(12)\n",
        "root.insert(6)\n",
        "root.insert(14)\n",
        "root.insert(3)\n",
        "root.PrintTree()"
      ],
      "metadata": {
        "colab": {
          "base_uri": "https://localhost:8080/"
        },
        "id": "4OWpxIudxm_o",
        "outputId": "3727b829-40da-4750-bebb-0bd2c5293f84"
      },
      "execution_count": null,
      "outputs": [
        {
          "output_type": "stream",
          "name": "stdout",
          "text": [
            "3\n",
            "6\n",
            "12\n",
            "14\n"
          ]
        }
      ]
    },
    {
      "cell_type": "markdown",
      "source": [
        "**To implement binary search tree**"
      ],
      "metadata": {
        "id": "qic4J3co1SRD"
      }
    },
    {
      "cell_type": "code",
      "source": [
        "class BinarySearchTree:\n",
        "\t@staticmethod\n",
        "\tdef main(args):\n",
        "\t\ttree = BST()\n",
        "\t\ttree.insert(30)\n",
        "\t\ttree.insert(50)\n",
        "\t\ttree.insert(15)\n",
        "\t\ttree.insert(20)\n",
        "\t\ttree.insert(10)\n",
        "\t\ttree.insert(40)\n",
        "\t\ttree.insert(60)\n",
        "\t\ttree.inorder()\n",
        "\n",
        "\n",
        "class Node:\n",
        "\tleft = None\n",
        "\tval = 0\n",
        "\tright = None\n",
        "\n",
        "\tdef __init__(self, val):\n",
        "\t\tself.val = val\n",
        "\n",
        "\n",
        "class BST:\n",
        "\troot = None\n",
        "\n",
        "\tdef insert(self, key):\n",
        "\t\tnode = Node(key)\n",
        "\t\tif (self.root == None):\n",
        "\t\t\tself.root = node\n",
        "\t\t\treturn\n",
        "\t\tprev = None\n",
        "\t\ttemp = self.root\n",
        "\t\twhile (temp != None):\n",
        "\t\t\tif (temp.val > key):\n",
        "\t\t\t\tprev = temp\n",
        "\t\t\t\ttemp = temp.left\n",
        "\t\t\telif(temp.val < key):\n",
        "\t\t\t\tprev = temp\n",
        "\t\t\t\ttemp = temp.right\n",
        "\t\tif (prev.val > key):\n",
        "\t\t\tprev.left = node\n",
        "\t\telse:\n",
        "\t\t\tprev.right = node\n",
        "\n",
        "\tdef inorder(self):\n",
        "\t\ttemp = self.root\n",
        "\t\tstack = []\n",
        "\t\twhile (temp != None or not (len(stack) == 0)):\n",
        "\t\t\tif (temp != None):\n",
        "\t\t\t\tstack.append(temp)\n",
        "\t\t\t\ttemp = temp.left\n",
        "\t\t\telse:\n",
        "\t\t\t\ttemp = stack.pop()\n",
        "\t\t\t\tprint(str(temp.val) + \" \", end=\"\")\n",
        "\t\t\t\ttemp = temp.right\n",
        "\n",
        "if __name__ == \"__main__\":\n",
        "\tBinarySearchTree.main([])"
      ],
      "metadata": {
        "colab": {
          "base_uri": "https://localhost:8080/"
        },
        "id": "makZH2Yy1X9s",
        "outputId": "22186134-5fbd-44dd-d66c-23443cab48ee"
      },
      "execution_count": null,
      "outputs": [
        {
          "output_type": "stream",
          "name": "stdout",
          "text": [
            "10 15 20 30 40 50 60 "
          ]
        }
      ]
    }
  ]
}