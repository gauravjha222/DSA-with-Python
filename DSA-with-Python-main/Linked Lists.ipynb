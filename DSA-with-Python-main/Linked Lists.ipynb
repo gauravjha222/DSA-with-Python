{
 "cells": [
  {
   "cell_type": "markdown",
   "id": "808e2d64",
   "metadata": {},
   "source": [
    "### Nodes Creation and combine them and make Linked List"
   ]
  },
  {
   "cell_type": "code",
   "execution_count": 10,
   "id": "c0e3626b",
   "metadata": {},
   "outputs": [
    {
     "name": "stdout",
     "output_type": "stream",
     "text": [
      "1\n",
      "None\n",
      "2099740468576\n",
      "2\n",
      "None\n",
      "2099740461760\n",
      "3\n",
      "None\n",
      "2099740468768\n"
     ]
    }
   ],
   "source": [
    "# In the below we created a node that are not connected to each other\n",
    "\n",
    "class Node:\n",
    "    def __init__(self,value):\n",
    "        self.data=value\n",
    "        self.next=None\n",
    "a=Node(1)\n",
    "b=Node(2)\n",
    "c=Node(3)\n",
    "\n",
    "print(a.data)\n",
    "print(a.next)\n",
    "print(id(a)) # address of a\n",
    "\n",
    "print(b.data)\n",
    "print(b.next)\n",
    "print(id(b)) # address of b\n",
    "\n",
    "print(c.data)\n",
    "print(c.next)\n",
    "print(id(c)) #address of c"
   ]
  },
  {
   "cell_type": "code",
   "execution_count": 11,
   "id": "3004df4b",
   "metadata": {},
   "outputs": [
    {
     "name": "stdout",
     "output_type": "stream",
     "text": [
      "<__main__.Node object at 0x000001E8E248CAC0>\n",
      "2575424873536\n",
      "<__main__.Node object at 0x000001E8E248E620>\n",
      "2575424879152\n",
      "None\n"
     ]
    }
   ],
   "source": [
    "#combine above three nodes 'a','b','c' and make a linked list\n",
    "\n",
    "a.next=b # connect a with b\n",
    "b.next=c # connect b with c\n",
    "\n",
    "print(a.next) # it is address of b\n",
    "print(int(0x00000257A348E440)) # converting hexadecimal to decimal\n",
    "\n",
    "print(b.next) # it is address of c\n",
    "print(int(0x00000257A348FA30)) # converting hexadecimal to decimal\n",
    "\n",
    "print(c.next) # it returns None"
   ]
  },
  {
   "cell_type": "markdown",
   "id": "653524fd",
   "metadata": {},
   "source": [
    "### Creating empty Linked List"
   ]
  },
  {
   "cell_type": "code",
   "execution_count": 12,
   "id": "f0c37612",
   "metadata": {},
   "outputs": [
    {
     "name": "stdout",
     "output_type": "stream",
     "text": [
      "<__main__.LinkedList object at 0x000001E8E248F280>\n",
      "0\n"
     ]
    }
   ],
   "source": [
    "class Node:\n",
    "    def __init__(self,value):\n",
    "        self.data=value\n",
    "        self.next=None\n",
    "class LinkedList:\n",
    "    def __init__(self):\n",
    "        # creating empty LinkedList\n",
    "        self.head=None\n",
    "        # number of nodes in LinkedList\n",
    "        self.n=0\n",
    "    def __len__(self):\n",
    "        return self.n\n",
    "L=LinkedList()\n",
    "print(L)\n",
    "print(len(L)) # printing length of LinkedList"
   ]
  },
  {
   "cell_type": "markdown",
   "id": "0999bb2f",
   "metadata": {},
   "source": [
    "# Operations in LinkedList\n",
    "1. Insert\n",
    "    - from head\n",
    "    - from tail (append)\n",
    "    - from middle\n",
    "2. Traverse\n",
    "    - print()\n",
    "3. Dalete\n",
    "    - from head\n",
    "    - from tail (pop)\n",
    "    - using value (remove)\n",
    "    - using index \n",
    "4. Searching\n",
    "    - using value\n",
    "    - using index"
   ]
  },
  {
   "cell_type": "markdown",
   "id": "9208ddb2",
   "metadata": {},
   "source": [
    "### Insertion from head"
   ]
  },
  {
   "cell_type": "code",
   "execution_count": 13,
   "id": "2d4ae5b9",
   "metadata": {},
   "outputs": [
    {
     "name": "stdout",
     "output_type": "stream",
     "text": [
      "4\n"
     ]
    }
   ],
   "source": [
    "class LinkedList:\n",
    "    def __init__(self):\n",
    "        # creating empty LinkedList\n",
    "        self.head=None\n",
    "        # number of nodes in LinkedList\n",
    "        self.n=0\n",
    "    def __len__(self):\n",
    "        return self.n\n",
    "    def insert_head(self,value):\n",
    "        new_node=Node(value) # new node\n",
    "        new_node.next=self.head # create a connection\n",
    "        self.head=new_node # reassign head\n",
    "        self.n+=1\n",
    "L=LinkedList()\n",
    "L.insert_head(1)\n",
    "L.insert_head(2)\n",
    "L.insert_head(3)\n",
    "L.insert_head(4)\n",
    "print(len(L))    "
   ]
  },
  {
   "cell_type": "markdown",
   "id": "d4d18ac5",
   "metadata": {},
   "source": [
    "### Traverse the linkedlist"
   ]
  },
  {
   "cell_type": "code",
   "execution_count": 14,
   "id": "c6a93b5b",
   "metadata": {},
   "outputs": [
    {
     "name": "stdout",
     "output_type": "stream",
     "text": [
      "4\n",
      "3\n",
      "2\n",
      "1\n"
     ]
    }
   ],
   "source": [
    "class LinkedList:\n",
    "    def __init__(self):\n",
    "        # creating empty LinkedList\n",
    "        self.head=None\n",
    "        # number of nodes in LinkedList\n",
    "        self.n=0\n",
    "    def __len__(self):\n",
    "        return self.n\n",
    "    def insert_head(self,value):\n",
    "        new_node=Node(value) # new node\n",
    "        new_node.next=self.head # create a connection\n",
    "        self.head=new_node # reassign head\n",
    "        self.n+=1\n",
    "    def traverse(self):\n",
    "        curr=self.head\n",
    "        while curr!=None:\n",
    "            print(curr.data)\n",
    "            curr=curr.next\n",
    "L=LinkedList()\n",
    "L.insert_head(1)\n",
    "L.insert_head(2)\n",
    "L.insert_head(3)\n",
    "L.insert_head(4)\n",
    "L.traverse()"
   ]
  },
  {
   "cell_type": "code",
   "execution_count": 15,
   "id": "c3eb8322",
   "metadata": {},
   "outputs": [
    {
     "name": "stdout",
     "output_type": "stream",
     "text": [
      "4->3->2->1\n"
     ]
    }
   ],
   "source": [
    "class LinkedList:\n",
    "    def __init__(self):\n",
    "        # creating empty LinkedList\n",
    "        self.head=None\n",
    "        # number of nodes in LinkedList\n",
    "        self.n=0\n",
    "    def __len__(self):\n",
    "        return self.n\n",
    "    def insert_head(self,value):\n",
    "        new_node=Node(value) # new node\n",
    "        new_node.next=self.head # create a connection\n",
    "        self.head=new_node # reassign head\n",
    "        self.n+=1\n",
    "    def __str__(self):\n",
    "        curr=self.head\n",
    "        result=''\n",
    "        while curr!=None:\n",
    "            result=result+str(curr.data)+'->'\n",
    "            curr=curr.next\n",
    "        return result[:-2]\n",
    "L=LinkedList()\n",
    "L.insert_head(1)\n",
    "L.insert_head(2)\n",
    "L.insert_head(3)\n",
    "L.insert_head(4)\n",
    "print(L)"
   ]
  },
  {
   "cell_type": "markdown",
   "id": "f76c6545",
   "metadata": {},
   "source": [
    "### Insertion from tail"
   ]
  },
  {
   "cell_type": "code",
   "execution_count": 16,
   "id": "8b79765c",
   "metadata": {},
   "outputs": [
    {
     "name": "stdout",
     "output_type": "stream",
     "text": [
      "4\n",
      "3\n",
      "2\n",
      "1\n",
      "5\n"
     ]
    }
   ],
   "source": [
    "class Node:\n",
    "    def __init__(self,value):\n",
    "        self.data=value\n",
    "        self.next=None\n",
    "class LinkedList:\n",
    "    def __init__(self):\n",
    "        # creating empty LinkedList\n",
    "        self.head=None\n",
    "        # number of nodes in LinkedList\n",
    "        self.n=0\n",
    "    def __len__(self):\n",
    "        return self.n\n",
    "    def insert_head(self,value):\n",
    "        new_node=Node(value) # new node\n",
    "        new_node.next=self.head # create a connection\n",
    "        self.head=new_node # reassign head\n",
    "        self.n+=1\n",
    "    def traverse(self):\n",
    "        curr=self.head\n",
    "        while curr!=None:\n",
    "            print(curr.data)\n",
    "            curr=curr.next\n",
    "    def append(self,value):\n",
    "        new_node=Node(value)\n",
    "        curr=self.head\n",
    "        # if linkedlist is empty\n",
    "        if self.head==None:\n",
    "            self.head=new_node\n",
    "            self.n+=1\n",
    "            return\n",
    "        while curr.next!=None:\n",
    "            curr=curr.next\n",
    "        curr.next=new_node\n",
    "        self.n+=1\n",
    "L=LinkedList()\n",
    "L.insert_head(1)\n",
    "L.insert_head(2)\n",
    "L.insert_head(3)\n",
    "L.insert_head(4)\n",
    "L.append(5)\n",
    "L.traverse()"
   ]
  },
  {
   "cell_type": "markdown",
   "id": "747c5a9e",
   "metadata": {},
   "source": [
    "### Insertion in middle (After)"
   ]
  },
  {
   "cell_type": "code",
   "execution_count": 17,
   "id": "d2154600",
   "metadata": {},
   "outputs": [
    {
     "data": {
      "text/plain": [
       "'Item not found'"
      ]
     },
     "execution_count": 17,
     "metadata": {},
     "output_type": "execute_result"
    }
   ],
   "source": [
    "class Node:\n",
    "    def __init__(self,value):\n",
    "        self.data=value\n",
    "        self.next=None\n",
    "        \n",
    "class LinkedList:\n",
    "    def __init__(self):\n",
    "        # creating empty LinkedList\n",
    "        self.head=None\n",
    "        # number of nodes in LinkedList\n",
    "        self.n=0\n",
    "        \n",
    "    def __len__(self):\n",
    "        return self.n\n",
    "    \n",
    "    def insert_head(self,value):\n",
    "        new_node=Node(value) # new node\n",
    "        new_node.next=self.head # create a connection\n",
    "        self.head=new_node # reassign head\n",
    "        self.n+=1\n",
    "        \n",
    "    def traverse(self):\n",
    "        curr=self.head\n",
    "        while curr!=None:\n",
    "            print(curr.data)\n",
    "            curr=curr.next\n",
    "        \n",
    "    def insert_after(self,after,value):\n",
    "        new_node=Node(value)\n",
    "        curr=self.head\n",
    "        while curr!=None:\n",
    "            if curr.data==after:\n",
    "                break\n",
    "            curr=curr.next\n",
    "        #case-1 break item mil gaya it means curr->not None\n",
    "        if curr!=None:\n",
    "            new_node.next=curr.next\n",
    "            curr.next=new_node\n",
    "            self.n+=1\n",
    "        #case-2 loop poora chal gaya (item nahi mila it means curr->None)\n",
    "        else:\n",
    "            return 'Item not found'\n",
    "        \n",
    "L=LinkedList()\n",
    "L.insert_head(1)\n",
    "L.insert_head(2)\n",
    "L.insert_head(3)\n",
    "L.insert_head(4)\n",
    "# L.insert_after(2,200)\n",
    "# L.insert_after(4,100)\n",
    "L.insert_after(21,34)\n",
    "# L.traverse()"
   ]
  },
  {
   "cell_type": "markdown",
   "id": "3b76cd1d",
   "metadata": {},
   "source": [
    "### Clear a LinkedList"
   ]
  },
  {
   "cell_type": "code",
   "execution_count": 18,
   "id": "bd22f825",
   "metadata": {},
   "outputs": [
    {
     "name": "stdout",
     "output_type": "stream",
     "text": [
      "0\n"
     ]
    }
   ],
   "source": [
    "class Node:\n",
    "    def __init__(self,value):\n",
    "        self.data=value\n",
    "        self.next=None\n",
    "class LinkedList:\n",
    "    def __init__(self):\n",
    "        # creating empty LinkedList\n",
    "        self.head=None\n",
    "        # number of nodes in LinkedList\n",
    "        self.n=0\n",
    "    def __len__(self):\n",
    "        return self.n\n",
    "    def insert_head(self,value):\n",
    "        new_node=Node(value) # new node\n",
    "        new_node.next=self.head # create a connection\n",
    "        self.head=new_node # reassign head\n",
    "        self.n+=1\n",
    "    def traverse(self):\n",
    "        curr=self.head\n",
    "        while curr!=None:\n",
    "            print(curr.data)\n",
    "            curr=curr.next\n",
    "    def clear(self):\n",
    "        self.head=None\n",
    "        self.n=0\n",
    "L=LinkedList()\n",
    "L.insert_head(1)\n",
    "L.insert_head(2)\n",
    "L.insert_head(3)\n",
    "L.insert_head(4)\n",
    "L.clear()\n",
    "print(len(L))\n"
   ]
  },
  {
   "cell_type": "markdown",
   "id": "06c10385",
   "metadata": {},
   "source": [
    "### Delete from starting"
   ]
  },
  {
   "cell_type": "code",
   "execution_count": 19,
   "id": "84956fd2",
   "metadata": {},
   "outputs": [
    {
     "name": "stdout",
     "output_type": "stream",
     "text": [
      "3\n",
      "2\n",
      "1\n"
     ]
    }
   ],
   "source": [
    "class Node:\n",
    "    def __init__(self,value):\n",
    "        self.data=value\n",
    "        self.next=None\n",
    "class LinkedList:\n",
    "    def __init__(self):\n",
    "        # creating empty LinkedList\n",
    "        self.head=None\n",
    "        # number of nodes in LinkedList\n",
    "        self.n=0\n",
    "    def __len__(self):\n",
    "        return self.n\n",
    "    def insert_head(self,value):\n",
    "        new_node=Node(value) # new node\n",
    "        new_node.next=self.head # create a connection\n",
    "        self.head=new_node # reassign head\n",
    "        self.n+=1\n",
    "    def traverse(self):\n",
    "        curr=self.head\n",
    "        while curr!=None:\n",
    "            print(curr.data)\n",
    "            curr=curr.next\n",
    "    def delete_head(self):\n",
    "        if self.head==None:\n",
    "            return 'empty linkedlist'\n",
    "        self.head=self.head.next\n",
    "        self.n-=1\n",
    "L=LinkedList()\n",
    "L.insert_head(1)\n",
    "L.insert_head(2)\n",
    "L.insert_head(3)\n",
    "L.insert_head(4)\n",
    "L.delete_head()\n",
    "L.traverse()\n",
    "# print()\n",
    "# print(len(L))"
   ]
  },
  {
   "cell_type": "markdown",
   "id": "d7d1b047",
   "metadata": {},
   "source": [
    "### Delete from tail"
   ]
  },
  {
   "cell_type": "code",
   "execution_count": 20,
   "id": "1abaff7d",
   "metadata": {},
   "outputs": [
    {
     "name": "stdout",
     "output_type": "stream",
     "text": [
      "4\n",
      "3\n",
      "2\n"
     ]
    }
   ],
   "source": [
    "class Node:\n",
    "    def __init__(self,value):\n",
    "        self.data=value\n",
    "        self.next=None\n",
    "class LinkedList:\n",
    "    def __init__(self):\n",
    "        # creating empty LinkedList\n",
    "        self.head=None\n",
    "        # number of nodes in LinkedList\n",
    "        self.n=0\n",
    "    def __len__(self):\n",
    "        return self.n\n",
    "    def insert_head(self,value):\n",
    "        new_node=Node(value) # new node\n",
    "        new_node.next=self.head # create a connection\n",
    "        self.head=new_node # reassign head\n",
    "        self.n+=1\n",
    "    def traverse(self):\n",
    "        curr=self.head\n",
    "        while curr!=None:\n",
    "            print(curr.data)\n",
    "            curr=curr.next\n",
    "    def delete_head(self):\n",
    "        if self.head==None:\n",
    "            return 'empty linkedlist'\n",
    "        self.head=self.head.next\n",
    "        self.n-=1\n",
    "    def pop(self):\n",
    "        # if linkedlist already empty\n",
    "        if self.head==None:\n",
    "            return 'empty linkedlist'\n",
    "            \n",
    "        curr=self.head\n",
    "        # kya linked list me ek item h\n",
    "        if curr.next==None:\n",
    "            # item is head\n",
    "            return self.delete_head()\n",
    "        while curr.next.next!=None:\n",
    "            curr=curr.next\n",
    "        # curr-> 2nd last node\n",
    "        curr.next=None\n",
    "        self.n-=1\n",
    "        \n",
    "L=LinkedList()\n",
    "L.insert_head(1)\n",
    "L.insert_head(2)\n",
    "L.insert_head(3)\n",
    "L.insert_head(4)\n",
    "L.pop()\n",
    "L.traverse()\n",
    "# print()\n",
    "# print(len(L))"
   ]
  },
  {
   "cell_type": "markdown",
   "id": "29348f02",
   "metadata": {},
   "source": [
    "### Deletion using value"
   ]
  },
  {
   "cell_type": "code",
   "execution_count": 21,
   "id": "5c13d78f",
   "metadata": {},
   "outputs": [
    {
     "name": "stdout",
     "output_type": "stream",
     "text": [
      "4\n",
      "2\n",
      "1\n"
     ]
    }
   ],
   "source": [
    "class Node:\n",
    "    def __init__(self,value):\n",
    "        self.data=value\n",
    "        self.next=None\n",
    "class LinkedList:\n",
    "    def __init__(self):\n",
    "        # creating empty LinkedList\n",
    "        self.head=None\n",
    "        # number of nodes in LinkedList\n",
    "        self.n=0\n",
    "    def __len__(self):\n",
    "        return self.n\n",
    "    def insert_head(self,value):\n",
    "        new_node=Node(value) # new node\n",
    "        new_node.next=self.head # create a connection\n",
    "        self.head=new_node # reassign head\n",
    "        self.n+=1\n",
    "    def traverse(self):\n",
    "        curr=self.head\n",
    "        while curr!=None:\n",
    "            print(curr.data)\n",
    "            curr=curr.next\n",
    "    def delete_head(self):\n",
    "        if self.head==None:\n",
    "            return 'empty linkedlist'\n",
    "        self.head=self.head.next\n",
    "        self.n-=1\n",
    "    \n",
    "    def remove(self,value):\n",
    "        # if linkedlist already empty\n",
    "        if self.head==None:\n",
    "            return 'empty linkedlist'\n",
    "        #if deletion item present at first index\n",
    "        if self.head.data==value:\n",
    "            return self.delete_head()\n",
    "        curr=self.head\n",
    "        while curr.next!=None:\n",
    "            if curr.next.data==value:\n",
    "                break\n",
    "            curr=curr.next\n",
    "        #2 case - item mil gaya\n",
    "        #item nahi mila\n",
    "        if curr.next==None:\n",
    "            return 'not found'\n",
    "        else:\n",
    "            curr.next=curr.next.next\n",
    "            self.n-=1\n",
    "        \n",
    "L=LinkedList()\n",
    "L.insert_head(1)\n",
    "L.insert_head(2)\n",
    "L.insert_head(3)\n",
    "L.insert_head(4)\n",
    "L.remove(3)\n",
    "L.traverse()\n",
    "# print()\n",
    "# print(len(L))"
   ]
  },
  {
   "cell_type": "markdown",
   "id": "85788a72",
   "metadata": {},
   "source": [
    "### Search by value(find)"
   ]
  },
  {
   "cell_type": "code",
   "execution_count": 22,
   "id": "a1ab8cf4",
   "metadata": {},
   "outputs": [
    {
     "data": {
      "text/plain": [
       "3"
      ]
     },
     "execution_count": 22,
     "metadata": {},
     "output_type": "execute_result"
    }
   ],
   "source": [
    "class Node:\n",
    "    def __init__(self,value):\n",
    "        self.data=value\n",
    "        self.next=None\n",
    "class LinkedList:\n",
    "    def __init__(self):\n",
    "        # creating empty LinkedList\n",
    "        self.head=None\n",
    "        # number of nodes in LinkedList\n",
    "        self.n=0\n",
    "    def __len__(self):\n",
    "        return self.n\n",
    "    def insert_head(self,value):\n",
    "        new_node=Node(value) # new node\n",
    "        new_node.next=self.head # create a connection\n",
    "        self.head=new_node # reassign head\n",
    "        self.n+=1\n",
    "    def traverse(self):\n",
    "        curr=self.head\n",
    "        while curr!=None:\n",
    "            print(curr.data)\n",
    "            curr=curr.next\n",
    "    def search(self,item):\n",
    "        curr=self.head\n",
    "        pos=0\n",
    "        while curr!=None:\n",
    "            if curr.data==item:\n",
    "                return pos\n",
    "            curr=curr.next\n",
    "            pos+=1\n",
    "        return 'Not found'\n",
    "    \n",
    "    \n",
    "        \n",
    "L=LinkedList()\n",
    "L.insert_head(1)\n",
    "L.insert_head(2)\n",
    "L.insert_head(3)\n",
    "L.insert_head(4)\n",
    "L.search(1)\n",
    "# L.search(6)"
   ]
  },
  {
   "cell_type": "markdown",
   "id": "31647454",
   "metadata": {},
   "source": [
    "### Delete by index(indexing)"
   ]
  },
  {
   "cell_type": "code",
   "execution_count": 23,
   "id": "58ba9401",
   "metadata": {},
   "outputs": [
    {
     "data": {
      "text/plain": [
       "4"
      ]
     },
     "execution_count": 23,
     "metadata": {},
     "output_type": "execute_result"
    }
   ],
   "source": [
    "class Node:\n",
    "    def __init__(self,value):\n",
    "        self.data=value\n",
    "        self.next=None\n",
    "class LinkedList:\n",
    "    def __init__(self):\n",
    "        # creating empty LinkedList\n",
    "        self.head=None\n",
    "        # number of nodes in LinkedList\n",
    "        self.n=0\n",
    "    def __len__(self):\n",
    "        return self.n\n",
    "    def insert_head(self,value):\n",
    "        new_node=Node(value) # new node\n",
    "        new_node.next=self.head # create a connection\n",
    "        self.head=new_node # reassign head\n",
    "        self.n+=1\n",
    "    def traverse(self):\n",
    "        curr=self.head\n",
    "        while curr!=None:\n",
    "            print(curr.data)\n",
    "            curr=curr.next\n",
    "    def __getitem__(self,index):\n",
    "        curr=self.head\n",
    "        pos=0\n",
    "        while curr!=None:\n",
    "            if pos==index:\n",
    "                return curr.data\n",
    "            curr=curr.next\n",
    "            pos+=1\n",
    "        return 'index error'\n",
    "    \n",
    "    \n",
    "        \n",
    "L=LinkedList()\n",
    "L.insert_head(1)\n",
    "L.insert_head(2)\n",
    "L.insert_head(3)\n",
    "L.insert_head(4)\n",
    "L[0]\n",
    "# L[6]"
   ]
  },
  {
   "cell_type": "markdown",
   "id": "0d973e2f",
   "metadata": {},
   "source": [
    "## Difference between array and linkedlist\n",
    "- Array -> read operation fast\n",
    "- LinkedList -> write operation fast\n",
    "- and vice-versa"
   ]
  }
 ],
 "metadata": {
  "kernelspec": {
   "display_name": "Python 3 (ipykernel)",
   "language": "python",
   "name": "python3"
  },
  "language_info": {
   "codemirror_mode": {
    "name": "ipython",
    "version": 3
   },
   "file_extension": ".py",
   "mimetype": "text/x-python",
   "name": "python",
   "nbconvert_exporter": "python",
   "pygments_lexer": "ipython3",
   "version": "3.10.9"
  }
 },
 "nbformat": 4,
 "nbformat_minor": 5
}
