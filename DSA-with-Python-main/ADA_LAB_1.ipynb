{
  "nbformat": 4,
  "nbformat_minor": 0,
  "metadata": {
    "colab": {
      "provenance": []
    },
    "kernelspec": {
      "name": "python3",
      "display_name": "Python 3"
    },
    "language_info": {
      "name": "python"
    }
  },
  "cells": [
    {
      "cell_type": "markdown",
      "source": [
        "**bubble sort**"
      ],
      "metadata": {
        "id": "Xr-dWI2OxMIC"
      }
    },
    {
      "cell_type": "code",
      "execution_count": null,
      "metadata": {
        "colab": {
          "base_uri": "https://localhost:8080/"
        },
        "id": "AnY_-OMaxEQK",
        "outputId": "ea49e74a-6eeb-4478-919e-5c4fe5bd2e8c"
      },
      "outputs": [
        {
          "output_type": "stream",
          "name": "stdout",
          "text": [
            "enter number of elements:5\n",
            "23\n",
            "45\n",
            "1\n",
            "6\n",
            "7\n",
            "original list\n",
            "[23, 45, 1, 6, 7]\n",
            "\n",
            "[23, 1, 6, 7, 45]\n",
            "[1, 6, 7, 23, 45]\n",
            "[1, 6, 7, 23, 45]\n",
            "[1, 6, 7, 23, 45]\n",
            "sorted list\n",
            "1 6 7 23 45 "
          ]
        }
      ],
      "source": [
        "lst = []\n",
        "m = int(input(\"enter number of elements:\"))\n",
        "for k in range(0,m):\n",
        "    ele = int(input())\n",
        "    lst.append(ele)\n",
        "print(\"original list\")\n",
        "print(lst)\n",
        "print()\n",
        "\n",
        "for i in range(0,len(lst)-1):\n",
        "    for j in range(0,len(lst)-1-i):\n",
        "        if lst[j]>lst[j+1]:\n",
        "            temp = lst[j]\n",
        "            lst[j] = lst[j+1]\n",
        "            lst[j+1] = temp\n",
        "        j+=1\n",
        "    i+=1\n",
        "    print(lst)\n",
        "print(\"sorted list\")\n",
        "for i in range(len(lst)):\n",
        "    print(lst[i],end=\" \")"
      ]
    },
    {
      "cell_type": "markdown",
      "source": [
        "**linear search**"
      ],
      "metadata": {
        "id": "DXFCCMuRxnIr"
      }
    },
    {
      "cell_type": "code",
      "source": [
        "def linear_Search(list,n,key):\n",
        "  for i in range(0,n):\n",
        "    if (list[i]==key):\n",
        "      return i\n",
        "  return -1\n",
        "list = []\n",
        "m = int(input(\"enter a number of elements:\"))\n",
        "for k in range(0,m):\n",
        "  ele = int(input())\n",
        "  list.append(ele)\n",
        "print(\"original list\")\n",
        "print(list)\n",
        "key = int(input(\"enter a number you want to search:\"))\n",
        "n = len(list)\n",
        "res = linear_Search(list,n,key)\n",
        "if(res == -1):\n",
        "  print(\"element not found\")\n",
        "else:\n",
        "  print(\"element found at index:\",res)"
      ],
      "metadata": {
        "colab": {
          "base_uri": "https://localhost:8080/"
        },
        "id": "L5Bi_3Vzxqip",
        "outputId": "cb11dba8-0317-4dc7-a6f9-dc484ef4843f"
      },
      "execution_count": null,
      "outputs": [
        {
          "output_type": "stream",
          "name": "stdout",
          "text": [
            "enter a number of elements:5\n",
            "45\n",
            "4\n",
            "3\n",
            "67\n",
            "2\n",
            "original list\n",
            "[45, 4, 3, 67, 2]\n",
            "enter a number you want to search:67\n",
            "element found at index: 3\n"
          ]
        }
      ]
    },
    {
      "cell_type": "markdown",
      "source": [
        "**insertion sort**"
      ],
      "metadata": {
        "id": "8Tq0qUnSzOB6"
      }
    },
    {
      "cell_type": "code",
      "source": [
        "lst = []\n",
        "m = int(input(\"enter number of elements:\"))\n",
        "for k in range(0,m):\n",
        "    ele = int(input())\n",
        "    lst.append(ele)\n",
        "print(\"original list\")\n",
        "print(lst)\n",
        "print()\n",
        "\n",
        "for i in range(1,len(lst)):\n",
        "  key = lst[i]\n",
        "  j = i-1\n",
        "  while j>=0 and lst[j]>key:\n",
        "    lst[j+1]=lst[j]\n",
        "    j-=1\n",
        "  lst[j+1]=key\n",
        "  print(lst)\n",
        "\n",
        "print(\"sorted list\")\n",
        "for i in range(len(lst)):\n",
        "    print(lst[i],end=\" \")"
      ],
      "metadata": {
        "colab": {
          "base_uri": "https://localhost:8080/"
        },
        "id": "XnBk01p1zRcc",
        "outputId": "36a4437c-6b2c-452e-d76a-431372974a67"
      },
      "execution_count": null,
      "outputs": [
        {
          "output_type": "stream",
          "name": "stdout",
          "text": [
            "enter number of elements:5\n",
            "4\n",
            "45\n",
            "7\n",
            "9\n",
            "3\n",
            "original list\n",
            "[4, 45, 7, 9, 3]\n",
            "\n",
            "[4, 45, 7, 9, 3]\n",
            "[4, 7, 45, 9, 3]\n",
            "[4, 7, 9, 45, 3]\n",
            "[3, 4, 7, 9, 45]\n",
            "sorted list\n",
            "3 4 7 9 45 "
          ]
        }
      ]
    },
    {
      "cell_type": "markdown",
      "source": [
        "**fibonacci series**"
      ],
      "metadata": {
        "id": "3L5-OKqF0Prn"
      }
    },
    {
      "cell_type": "code",
      "source": [
        "n = int(input(\"enter a number of terms to print:\"))\n",
        "a=0\n",
        "b=0\n",
        "c=1\n",
        "for i in range(0,n):\n",
        "  a = b+c\n",
        "  c = b\n",
        "  b = a\n",
        "  print(a,end=\" \")"
      ],
      "metadata": {
        "colab": {
          "base_uri": "https://localhost:8080/"
        },
        "id": "VJtSJmU10Tf5",
        "outputId": "46c46bb2-97b1-42d6-aa61-3a62d5b7a9c9"
      },
      "execution_count": null,
      "outputs": [
        {
          "output_type": "stream",
          "name": "stdout",
          "text": [
            "enter a number of terms to print:8\n",
            "1 1 2 3 5 8 13 21 "
          ]
        }
      ]
    },
    {
      "cell_type": "markdown",
      "source": [
        "**Merge Sort**"
      ],
      "metadata": {
        "id": "itmYKU4k1HvE"
      }
    },
    {
      "cell_type": "code",
      "source": [
        "def mergeSort(arr):\n",
        "  if len(arr) > 1:\n",
        "    mid = len(arr)//2\n",
        "    sub_array1 = arr[:mid]\n",
        "    sub_array2 = arr[mid:]\n",
        "    mergeSort(sub_array1)\n",
        "    mergeSort(sub_array2)\n",
        "    i = j = k = 0\n",
        "    while i < len(sub_array1) and j < len(sub_array2):\n",
        "      if sub_array1[i] < sub_array2[j]:\n",
        "        arr[k] = sub_array1[i]\n",
        "        i += 1\n",
        "      else:\n",
        "        arr[k] = sub_array2[j]\n",
        "        j += 1\n",
        "      k += 1\n",
        "\n",
        "        # When all elements are traversed in either arr1 or arr2,\n",
        "        # pick up the remaining elements and put in sorted array\n",
        "    while i < len(sub_array1):\n",
        "      arr[k] = sub_array1[i]\n",
        "      i += 1\n",
        "      k += 1\n",
        "\n",
        "    while j < len(sub_array2):\n",
        "      arr[k] = sub_array2[j]\n",
        "      j += 1\n",
        "      k += 1\n",
        "\n",
        "arr = []\n",
        "m = int(input(\"enter number of elements:\"))\n",
        "for k in range(0,m):\n",
        "    ele = int(input())\n",
        "    arr.append(ele)\n",
        "print(\"original List\")\n",
        "print(arr)\n",
        "mergeSort(arr)\n",
        "print(\"Sorted List\")\n",
        "print(arr)\n"
      ],
      "metadata": {
        "colab": {
          "base_uri": "https://localhost:8080/"
        },
        "id": "YH_apu4E1ML_",
        "outputId": "df3674ac-4e69-4cce-e3f0-048dda2f125f"
      },
      "execution_count": null,
      "outputs": [
        {
          "output_type": "stream",
          "name": "stdout",
          "text": [
            "enter number of elements:5\n",
            "45\n",
            "23\n",
            "98\n",
            "5\n",
            "8\n",
            "original List\n",
            "[45, 23, 98, 5, 8]\n",
            "Sorted List\n",
            "[5, 8, 23, 45, 98]\n"
          ]
        }
      ]
    },
    {
      "cell_type": "markdown",
      "source": [
        "**heap sort**"
      ],
      "metadata": {
        "id": "1d3oZRQa5BRV"
      }
    },
    {
      "cell_type": "code",
      "source": [
        "def heapify(arr, n, i):\n",
        "\tlargest = i\n",
        "\tl = 2 * i + 1\n",
        "\tr = 2 * i + 2\n",
        "\tif l < n and arr[i] < arr[l]:\n",
        "\t\tlargest = l\n",
        "\tif r < n and arr[largest] < arr[r]:\n",
        "\t\tlargest = r\n",
        "\tif largest != i:\n",
        "\t\t(arr[i], arr[largest]) = (arr[largest], arr[i])\n",
        "\t\theapify(arr, n, largest)\n",
        "def heapSort(arr):\n",
        "\tn = len(arr)\n",
        "\tfor i in range(n // 2 - 1, -1, -1):\n",
        "\t\theapify(arr, n, i)\n",
        "\tfor i in range(n - 1, 0, -1):\n",
        "\t\t(arr[i], arr[0]) = (arr[0], arr[i])\n",
        "\t\theapify(arr, i, 0)\n",
        "arr = []\n",
        "m = int(input(\"enter number of elements:\"))\n",
        "for k in range(0,m):\n",
        "    ele = int(input())\n",
        "    arr.append(ele)\n",
        "print(\"original list\")\n",
        "print(arr)\n",
        "heapSort(arr)\n",
        "n = len(arr)\n",
        "print('Sorted array is')\n",
        "for i in range(n):\n",
        "\tprint(arr[i],end=\" \")"
      ],
      "metadata": {
        "colab": {
          "base_uri": "https://localhost:8080/"
        },
        "id": "A_4WDMN25Q_b",
        "outputId": "b26d70ec-f487-417b-fd48-a798f5b7865b"
      },
      "execution_count": null,
      "outputs": [
        {
          "output_type": "stream",
          "name": "stdout",
          "text": [
            "enter number of elements:5\n",
            "3\n",
            "8\n",
            "5\n",
            "2\n",
            "9\n",
            "original list\n",
            "[3, 8, 5, 2, 9]\n",
            "Sorted array is\n",
            "2 3 5 8 9 "
          ]
        }
      ]
    },
    {
      "cell_type": "markdown",
      "source": [
        "**matrix multiplication**"
      ],
      "metadata": {
        "id": "UbR-Nx8i5-9K"
      }
    },
    {
      "cell_type": "code",
      "source": [
        "# take a 3x3 matrix\n",
        "A = [[12, 7, 3],\n",
        "\t[4, 5, 6],\n",
        "\t[7, 8, 9]]\n",
        "\n",
        "# take a 3x4 matrix\n",
        "B = [[5, 8, 1, 2],\n",
        "\t[6, 7, 3, 0],\n",
        "\t[4, 5, 9, 1]]\n",
        "\n",
        "result = [[0, 0, 0, 0],\n",
        "\t\t[0, 0, 0, 0],\n",
        "\t\t[0, 0, 0, 0]]\n",
        "\n",
        "# iterating by row of A\n",
        "for i in range(len(A)):\n",
        "\n",
        "\t# iterating by column by B\n",
        "\tfor j in range(len(B[0])):\n",
        "\n",
        "\t\t# iterating by rows of B\n",
        "\t\tfor k in range(len(B)):\n",
        "\t\t\tresult[i][j] += A[i][k] * B[k][j]\n",
        "\n",
        "for r in result:\n",
        "\tprint(r)\n"
      ],
      "metadata": {
        "colab": {
          "base_uri": "https://localhost:8080/"
        },
        "id": "kClvj_D66ISD",
        "outputId": "6211e2e7-ce70-43a1-c752-cc1a790a73a2"
      },
      "execution_count": null,
      "outputs": [
        {
          "output_type": "stream",
          "name": "stdout",
          "text": [
            "[114, 160, 60, 27]\n",
            "[74, 97, 73, 14]\n",
            "[119, 157, 112, 23]\n"
          ]
        }
      ]
    },
    {
      "cell_type": "markdown",
      "source": [
        "**binary search**"
      ],
      "metadata": {
        "id": "hX8skpgY6a5F"
      }
    },
    {
      "cell_type": "code",
      "source": [
        "def binary_search(arr, low, high, x):\n",
        "\tif high >= low:\n",
        "\n",
        "\t\tmid = (high + low) // 2\n",
        "\t\tif arr[mid] == x:\n",
        "\t\t\treturn mid\n",
        "\t\telif arr[mid] > x:\n",
        "\t\t\treturn binary_search(arr, low, mid - 1, x)\n",
        "\t\telse:\n",
        "\t\t\treturn binary_search(arr, mid + 1, high, x)\n",
        "\n",
        "\telse:\n",
        "\t\treturn -1\n",
        "\n",
        "arr = []\n",
        "m = int(input(\"enter number of elements:\"))\n",
        "for k in range(0,m):\n",
        "    ele = int(input())\n",
        "    arr.append(ele)\n",
        "print(\"original list\")\n",
        "print(arr)\n",
        "x = int(input(\"enter a element you want to search:\"))\n",
        "result = binary_search(arr, 0, len(arr)-1, x)\n",
        "\n",
        "if result != -1:\n",
        "\tprint(\"Element is present at index\", str(result))\n",
        "else:\n",
        "\tprint(\"Element is not present in array\")\n"
      ],
      "metadata": {
        "colab": {
          "base_uri": "https://localhost:8080/"
        },
        "id": "opnCq8Dp6eO1",
        "outputId": "6ee48d14-0d6a-443b-bebe-c87ec04774ab"
      },
      "execution_count": null,
      "outputs": [
        {
          "output_type": "stream",
          "name": "stdout",
          "text": [
            "enter number of elements:4\n",
            "34\n",
            "2\n",
            "8\n",
            "7\n",
            "original list\n",
            "[34, 2, 8, 7]\n",
            "enter a element you want to search:8\n",
            "Element is present at index 2\n"
          ]
        }
      ]
    },
    {
      "cell_type": "markdown",
      "source": [
        "**GCD**"
      ],
      "metadata": {
        "id": "bLddzkYN7R0d"
      }
    },
    {
      "cell_type": "code",
      "source": [
        "def computeGCD(x, y):\n",
        "\n",
        "\tif x > y:\n",
        "\t\tsmall = y\n",
        "\telse:\n",
        "\t\tsmall = x\n",
        "\tfor i in range(1, small + 1):\n",
        "\t\tif((x % i == 0) and (y % i == 0)):\n",
        "\t\t\tgcd = i\n",
        "\n",
        "\treturn gcd\n",
        "\n",
        "a = int(input(\"enter a first number:\"))\n",
        "b = int(input(\"enter a second number:\"))\n",
        "\n",
        "print (\"The gcd of a and b is : \", end=\"\")\n",
        "print (computeGCD(a,b))\n"
      ],
      "metadata": {
        "colab": {
          "base_uri": "https://localhost:8080/"
        },
        "id": "rm4S1oZ07VLy",
        "outputId": "d7a94836-f73a-4b67-d50c-165970494bfb"
      },
      "execution_count": null,
      "outputs": [
        {
          "output_type": "stream",
          "name": "stdout",
          "text": [
            "enter a first number:60\n",
            "enter a second number:48\n",
            "The gcd of a and b is : 12\n"
          ]
        }
      ]
    }
  ]
}