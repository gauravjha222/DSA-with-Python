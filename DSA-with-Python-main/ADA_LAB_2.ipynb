{
  "nbformat": 4,
  "nbformat_minor": 0,
  "metadata": {
    "colab": {
      "provenance": []
    },
    "kernelspec": {
      "name": "python3",
      "display_name": "Python 3"
    },
    "language_info": {
      "name": "python"
    }
  },
  "cells": [
    {
      "cell_type": "markdown",
      "source": [
        "**To implement local minima in array**"
      ],
      "metadata": {
        "id": "c0cT69tKemhN"
      }
    },
    {
      "cell_type": "code",
      "execution_count": null,
      "metadata": {
        "colab": {
          "base_uri": "https://localhost:8080/"
        },
        "id": "Q_Pmgw7WeH2M",
        "outputId": "da0d50d6-beff-4394-de68-76a598857d30"
      },
      "outputs": [
        {
          "output_type": "stream",
          "name": "stdout",
          "text": [
            "Index of a local minima is  2\n"
          ]
        }
      ],
      "source": [
        "def localMinUtil(arr, low, high, n):\n",
        "\tmid = low + (high - low) // 2\n",
        "\tif(mid == 0 or arr[mid - 1] > arr[mid] and mid == n - 1 or arr[mid] < arr[mid + 1]):\n",
        "\t\treturn mid\n",
        "\telif(mid > 0 and arr[mid - 1] < arr[mid]):\n",
        "\t\treturn localMinUtil(arr, low, mid - 1, n)\n",
        "\treturn localMinUtil(arr, mid + 1, high, n)\n",
        "def localMin(arr, n):\n",
        "\treturn localMinUtil(arr, 0, n - 1, n)\n",
        "\n",
        "arr = [4,3,1,14,16,40]\n",
        "n = len(arr)\n",
        "print(\"Index of a local minima is \",\n",
        "\tlocalMin(arr, n))"
      ]
    },
    {
      "cell_type": "markdown",
      "source": [
        "**To implement local minima in grid**"
      ],
      "metadata": {
        "id": "RRNTLM1VfRUZ"
      }
    },
    {
      "cell_type": "code",
      "source": [
        "def minGrid(mat,i,j,m,n,num):\n",
        "  val = mat[i][j]\n",
        "  a=i+1\n",
        "  b=j+1\n",
        "  c=i-1\n",
        "  d=j-1\n",
        "  if a >= m :\n",
        "    a = val\n",
        "  else:\n",
        "    a = mat[a][j]\n",
        "  if b >= n :\n",
        "    b = val\n",
        "  else:\n",
        "    b = mat[i][b]\n",
        "  if c < 0 :\n",
        "    c = val\n",
        "  else:\n",
        "    c = mat[c][j]\n",
        "  if d < 0 :\n",
        "    d = val\n",
        "  else:\n",
        "    d = mat[i][d]\n",
        "  min_val = min([a,b,c,d,val])\n",
        "  if min_val == val :\n",
        "    num += 1\n",
        "    return {num:[i,j,val]}\n",
        "  else :\n",
        "    return {0:[-1,-1,-1]}\n",
        "def allMinGrid(mat,m,n):\n",
        "  minimas = dict({0:[-1,-1,-1]})\n",
        "  count = 0\n",
        "  for i in range(m):\n",
        "    for j in range(n):\n",
        "      minimas.update(minGrid(mat,i,j,m,n,count))\n",
        "      if (count+1) in minimas.keys() :\n",
        "        count += 1\n",
        "  minimas.pop(0)\n",
        "  return minimas\n",
        "row = int(input('Enter required number of rows\\t'))\n",
        "col = int(input('Enter required number of columns\\t'))\n",
        "IPMatrix = []\n",
        "print('Enter values\\t')\n",
        "for i in range(row) :\n",
        "  a = []\n",
        "  for j in range(col) :\n",
        "    a.append(int(input()))\n",
        "  IPMatrix.append(a)\n",
        "result = allMinGrid(IPMatrix,row,col)\n",
        "print(IPMatrix)\n",
        "print(result)"
      ],
      "metadata": {
        "id": "VPS0mEIifafV",
        "colab": {
          "base_uri": "https://localhost:8080/"
        },
        "outputId": "75ba32de-3c7c-419a-d31f-d7b9b097d47b"
      },
      "execution_count": null,
      "outputs": [
        {
          "output_type": "stream",
          "name": "stdout",
          "text": [
            "Enter required number of rows\t3\n",
            "Enter required number of columns\t3\n",
            "Enter values\t\n",
            "3\n",
            "4\n",
            "2\n",
            "78\n",
            "4\n",
            "9\n",
            "1\n",
            "8\n",
            "7\n",
            "[[3, 4, 2], [78, 4, 9], [1, 8, 7]]\n",
            "{1: [0, 0, 3], 2: [0, 2, 2], 3: [1, 1, 4], 4: [2, 0, 1], 5: [2, 2, 7]}\n"
          ]
        }
      ]
    },
    {
      "cell_type": "markdown",
      "source": [
        "**To implement maximum sum of sub array problem**"
      ],
      "metadata": {
        "id": "Tw2o4cp5g70s"
      }
    },
    {
      "cell_type": "code",
      "source": [
        "def maxSubArraySum(a,size):\n",
        "\tmax_so_far =a[0]\n",
        "\tcurr_max = a[0]\n",
        "\tfor i in range(1,size):\n",
        "\t\tcurr_max = max(a[i], curr_max + a[i])\n",
        "\t\tmax_so_far = max(max_so_far,curr_max)\n",
        "\treturn max_so_far\n",
        "n = int(input(\"Enter number of elements : \"))\n",
        "a = list(map(int,input(\"\\nEnter the numbers : \").strip().split()))[:n]\n",
        "print(\"Maximum contiguous sum is\" , maxSubArraySum(a,len(a)))"
      ],
      "metadata": {
        "colab": {
          "base_uri": "https://localhost:8080/"
        },
        "id": "ICH9QXVthfjZ",
        "outputId": "866d72ae-3e22-48f3-d331-36050656b7f1"
      },
      "execution_count": null,
      "outputs": [
        {
          "output_type": "stream",
          "name": "stdout",
          "text": [
            "Enter number of elements : 8\n",
            "\n",
            "Enter the numbers : -2 -3 4 -1 -2 1 5 -3\n",
            "Maximum contiguous sum is 7\n"
          ]
        }
      ]
    }
  ]
}